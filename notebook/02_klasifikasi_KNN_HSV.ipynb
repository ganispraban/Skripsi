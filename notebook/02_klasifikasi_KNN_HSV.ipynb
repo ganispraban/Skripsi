{
 "cells": [
  {
   "cell_type": "code",
   "execution_count": 1,
   "metadata": {},
   "outputs": [],
   "source": [
    "import pandas as pd\n",
    "import numpy as np\n",
    "from sklearn.model_selection import train_test_split\n",
    "from sklearn.neighbors import KNeighborsClassifier\n",
    "from sklearn.metrics import confusion_matrix, classification_report"
   ]
  },
  {
   "cell_type": "markdown",
   "metadata": {},
   "source": [
    "### Load Dataset Feature Extraction HSV Mean, Skewness, Entrophy, Standard Deviasi"
   ]
  },
  {
   "cell_type": "code",
   "execution_count": 2,
   "metadata": {},
   "outputs": [],
   "source": [
    "# Baca dataset CSV yang berisi hasil perhitungan fitur HSV\n",
    "dataset_path = '../notebook/result/output_feature_extraction_HSV.csv' \n",
    "df = pd.read_csv(dataset_path)"
   ]
  },
  {
   "cell_type": "code",
   "execution_count": 11,
   "metadata": {},
   "outputs": [
    {
     "data": {
      "text/html": [
       "<div>\n",
       "<style scoped>\n",
       "    .dataframe tbody tr th:only-of-type {\n",
       "        vertical-align: middle;\n",
       "    }\n",
       "\n",
       "    .dataframe tbody tr th {\n",
       "        vertical-align: top;\n",
       "    }\n",
       "\n",
       "    .dataframe thead th {\n",
       "        text-align: right;\n",
       "    }\n",
       "</style>\n",
       "<table border=\"1\" class=\"dataframe\">\n",
       "  <thead>\n",
       "    <tr style=\"text-align: right;\">\n",
       "      <th></th>\n",
       "      <th>H_mean</th>\n",
       "      <th>S_mean</th>\n",
       "      <th>V_mean</th>\n",
       "      <th>H_skewness</th>\n",
       "      <th>S_skewness</th>\n",
       "      <th>V_skewness</th>\n",
       "      <th>H_entropy</th>\n",
       "      <th>S_entropy</th>\n",
       "      <th>V_entropy</th>\n",
       "      <th>H_std</th>\n",
       "      <th>S_std</th>\n",
       "      <th>V_std</th>\n",
       "      <th>label</th>\n",
       "    </tr>\n",
       "  </thead>\n",
       "  <tbody>\n",
       "    <tr>\n",
       "      <th>0</th>\n",
       "      <td>112.918556</td>\n",
       "      <td>25.083630</td>\n",
       "      <td>233.556561</td>\n",
       "      <td>-8.984022</td>\n",
       "      <td>5.166388</td>\n",
       "      <td>-5.116159</td>\n",
       "      <td>15.930703</td>\n",
       "      <td>15.777923</td>\n",
       "      <td>15.926208</td>\n",
       "      <td>8.421821</td>\n",
       "      <td>18.594424</td>\n",
       "      <td>27.223275</td>\n",
       "      <td>Skala0</td>\n",
       "    </tr>\n",
       "    <tr>\n",
       "      <th>1</th>\n",
       "      <td>102.019578</td>\n",
       "      <td>6.076716</td>\n",
       "      <td>239.601118</td>\n",
       "      <td>-2.936337</td>\n",
       "      <td>8.822647</td>\n",
       "      <td>-5.048020</td>\n",
       "      <td>13.755722</td>\n",
       "      <td>13.160871</td>\n",
       "      <td>13.811461</td>\n",
       "      <td>26.847181</td>\n",
       "      <td>12.564507</td>\n",
       "      <td>19.617937</td>\n",
       "      <td>Skala0</td>\n",
       "    </tr>\n",
       "    <tr>\n",
       "      <th>2</th>\n",
       "      <td>107.860592</td>\n",
       "      <td>49.071800</td>\n",
       "      <td>219.021018</td>\n",
       "      <td>-4.309712</td>\n",
       "      <td>5.606899</td>\n",
       "      <td>-4.171041</td>\n",
       "      <td>13.813757</td>\n",
       "      <td>13.791267</td>\n",
       "      <td>13.794408</td>\n",
       "      <td>6.033221</td>\n",
       "      <td>12.621105</td>\n",
       "      <td>37.301510</td>\n",
       "      <td>Skala0</td>\n",
       "    </tr>\n",
       "    <tr>\n",
       "      <th>3</th>\n",
       "      <td>107.707690</td>\n",
       "      <td>42.995309</td>\n",
       "      <td>214.469718</td>\n",
       "      <td>-6.700319</td>\n",
       "      <td>4.903321</td>\n",
       "      <td>-3.790741</td>\n",
       "      <td>13.812133</td>\n",
       "      <td>13.777719</td>\n",
       "      <td>13.802779</td>\n",
       "      <td>7.833227</td>\n",
       "      <td>13.849444</td>\n",
       "      <td>30.174435</td>\n",
       "      <td>Skala0</td>\n",
       "    </tr>\n",
       "    <tr>\n",
       "      <th>4</th>\n",
       "      <td>111.507190</td>\n",
       "      <td>21.193654</td>\n",
       "      <td>218.849183</td>\n",
       "      <td>-5.202897</td>\n",
       "      <td>5.463856</td>\n",
       "      <td>-4.667438</td>\n",
       "      <td>13.812049</td>\n",
       "      <td>13.625900</td>\n",
       "      <td>13.804734</td>\n",
       "      <td>8.537049</td>\n",
       "      <td>18.484920</td>\n",
       "      <td>27.969296</td>\n",
       "      <td>Skala0</td>\n",
       "    </tr>\n",
       "  </tbody>\n",
       "</table>\n",
       "</div>"
      ],
      "text/plain": [
       "       H_mean     S_mean      V_mean  H_skewness  S_skewness  V_skewness  \\\n",
       "0  112.918556  25.083630  233.556561   -8.984022    5.166388   -5.116159   \n",
       "1  102.019578   6.076716  239.601118   -2.936337    8.822647   -5.048020   \n",
       "2  107.860592  49.071800  219.021018   -4.309712    5.606899   -4.171041   \n",
       "3  107.707690  42.995309  214.469718   -6.700319    4.903321   -3.790741   \n",
       "4  111.507190  21.193654  218.849183   -5.202897    5.463856   -4.667438   \n",
       "\n",
       "   H_entropy  S_entropy  V_entropy      H_std      S_std      V_std   label  \n",
       "0  15.930703  15.777923  15.926208   8.421821  18.594424  27.223275  Skala0  \n",
       "1  13.755722  13.160871  13.811461  26.847181  12.564507  19.617937  Skala0  \n",
       "2  13.813757  13.791267  13.794408   6.033221  12.621105  37.301510  Skala0  \n",
       "3  13.812133  13.777719  13.802779   7.833227  13.849444  30.174435  Skala0  \n",
       "4  13.812049  13.625900  13.804734   8.537049  18.484920  27.969296  Skala0  "
      ]
     },
     "execution_count": 11,
     "metadata": {},
     "output_type": "execute_result"
    }
   ],
   "source": [
    "df.head()"
   ]
  },
  {
   "cell_type": "code",
   "execution_count": 4,
   "metadata": {},
   "outputs": [],
   "source": [
    "# Pisahkan fitur-fitur (atribut) dan label (kelas)\n",
    "X = df.drop('label', axis=1)  # Atribut\n",
    "y = df['label']  # Kelas"
   ]
  },
  {
   "cell_type": "code",
   "execution_count": 13,
   "metadata": {},
   "outputs": [
    {
     "name": "stdout",
     "output_type": "stream",
     "text": [
      "         H_mean     S_mean      V_mean  H_skewness  S_skewness  V_skewness  \\\n",
      "28   108.957347  21.478116  228.849707   -4.613958    5.003672   -5.150001   \n",
      "0    112.918556  25.083630  233.556561   -8.984022    5.166388   -5.116159   \n",
      "139  108.423686  22.537409  251.209923   -6.900028    5.715377   -7.924924   \n",
      "166  104.052148  22.915012  223.193722   -3.269524    5.571240   -4.563150   \n",
      "174  106.863420  45.861029  216.693520   -6.239178    7.048882   -4.940546   \n",
      "3    107.707690  42.995309  214.469718   -6.700319    4.903321   -3.790741   \n",
      "38    36.145684   7.879730  229.571654    0.616836    2.871679   -6.151655   \n",
      "34   109.161141  51.630220  230.091209   -6.449218    6.070217   -4.778564   \n",
      "82    97.144615  29.777537  246.108473   -4.519964    1.830639   -7.043834   \n",
      "159  108.861552  16.348049  243.336444   -5.177627    8.218011   -5.742746   \n",
      "35   113.176831  28.754019  229.992928   -8.442057    5.600563   -4.611075   \n",
      "29   108.387316  18.134845  219.190473   -5.538913    6.931065   -4.839005   \n",
      "72   108.501840  16.891071  232.248524   -4.410928    4.285516   -5.948092   \n",
      "10   114.022731  23.685361  239.686348   -4.725794    7.291320   -4.920200   \n",
      "128  104.315689  26.964236  249.287411   -2.910401    4.361378   -5.409920   \n",
      "90   108.572620  26.295399  224.312763   -4.888652    5.741709   -5.581245   \n",
      "155  107.086779  44.939844  226.257875   -8.061098    7.594028   -4.702926   \n",
      "80   113.900974  36.892881  244.016107   -6.447721    4.779024   -4.823257   \n",
      "150  108.809934  16.594329  241.595411   -8.154277   10.832355   -7.459063   \n",
      "147  106.259523  65.776356  231.907994   -6.918428    3.840901   -4.518708   \n",
      "154  113.529794   7.054052  248.902638   -3.933359    9.259964   -7.610220   \n",
      "106   76.454418   7.866705  247.217495   -0.678950    5.179047   -5.060723   \n",
      "85   113.444630   8.217674  230.113049   -5.590365    7.202357   -5.769154   \n",
      "40   111.551107  15.319124  237.808658   -5.862071    7.809208   -5.853751   \n",
      "165   83.555076  13.578273  242.690806   -2.080451    4.309673   -3.115822   \n",
      "61   107.540766  28.083547  245.616356   -2.655728    7.790240   -8.024047   \n",
      "115  112.284655  20.586765  221.193632   -5.958994    5.149216   -4.680179   \n",
      "107   93.503071  15.465868  245.356389   -1.848293    4.637394   -5.827455   \n",
      "162  108.274626  46.523851  220.657527   -5.669727    4.758642   -4.337447   \n",
      "62   109.353103  11.518844  232.579373   -6.159905    7.565471   -6.187089   \n",
      "164  106.816198  47.988784  213.345367   -3.866124    4.018385   -3.045991   \n",
      "117  101.282347  11.383951  248.100296   -2.971506    7.637339   -7.050939   \n",
      "141  111.291986  21.983584  225.783867   -4.834811    9.574730   -6.308285   \n",
      "148  106.157886  62.193241  230.462074   -6.633840    3.891543   -4.111899   \n",
      "4    111.507190  21.193654  218.849183   -5.202897    5.463856   -4.667438   \n",
      "\n",
      "     H_entropy  S_entropy  V_entropy      H_std      S_std      V_std  \n",
      "28   16.115993  16.025879  16.109406   6.390668  11.403433  25.966864  \n",
      "0    15.930703  15.777923  15.926208   8.421821  18.594424  27.223275  \n",
      "139  13.811344  13.760705  13.812387   8.536167   8.465843  17.381335  \n",
      "166  15.043153  14.842544  15.071406  22.591868  21.809335  22.846636  \n",
      "174  13.805340  13.797343  13.801224  12.266676   9.577781  30.497691  \n",
      "3    13.812133  13.777719  13.802779   7.833227  13.849444  30.174435  \n",
      "38   12.838672  12.548486  13.812634  47.035367  14.664177  15.833357  \n",
      "34   13.814611  13.782712  13.799292   4.225487  16.081268  34.404661  \n",
      "82   13.790424  13.752677  13.813587  16.451785  10.125850  14.041570  \n",
      "159  13.805454  13.689106  13.809948  13.230965  11.920595  22.580735  \n",
      "35   13.813807  13.699729  13.808267   5.980691  18.604414  24.780008  \n",
      "29   13.811912  13.714445  13.805864   8.211577  11.253166  26.439812  \n",
      "72   13.778667  13.658577  13.808892  21.571159  10.878258  23.053020  \n",
      "10   13.814656  13.705750  13.805630   4.547602  15.648961  29.100253  \n",
      "128  13.808916  13.682822  13.808037  10.889642  15.621403  26.615472  \n",
      "90   13.808817  13.753210  13.809458  10.993409  11.357560  21.719757  \n",
      "155  13.810603  13.792642  13.803607   8.756208  11.209928  29.975557  \n",
      "80   13.814022  13.780042  13.809359   5.670424  11.111029  24.319871  \n",
      "150  13.812314  13.730254  13.811975   7.426435  10.237354  17.869114  \n",
      "147  13.810882  13.802351  13.802936   8.604203  10.744932  31.635871  \n",
      "154  13.803373  13.521143  13.813346  15.240220   8.869669  14.848931  \n",
      "106  13.487265  12.517860  13.806602  49.552014  20.602701  28.433267  \n",
      "85   13.807237  13.227272  13.805912  12.204867  16.180251  26.895403  \n",
      "40   13.810422  13.638940  13.811443   9.941550  13.754131  19.374069  \n",
      "165  15.436276  14.937993  15.494277  25.250324  19.872905  36.254383  \n",
      "61   16.172303  16.095937  16.171430   6.127793  15.064380  15.806882  \n",
      "115  13.806806  13.677124  13.805850  12.253224  13.917659  26.916023  \n",
      "107  13.671895  13.531341  13.811446  37.791590  13.166295  19.943005  \n",
      "162  13.806740  13.793406  13.803658  11.714518  10.582683  29.453610  \n",
      "62   15.601757  15.230194  15.597581   8.849634  17.245114  25.419335  \n",
      "164  14.909547  14.898535  14.907195  17.627997  13.211961  39.733145  \n",
      "117  13.758878  13.482799  13.810643  25.986157  13.450403  20.899807  \n",
      "141  13.794517  13.747679  13.812520  18.149145  11.074052  15.768788  \n",
      "148  13.813094  13.794740  13.804128   6.616214  13.406430  30.504830  \n",
      "4    13.812049  13.625900  13.804734   8.537049  18.484920  27.969296  \n"
     ]
    }
   ],
   "source": [
    "# Bagi data menjadi data pelatihan dan data pengujian\n",
    "X_train, X_test, y_train, y_test = train_test_split(X, y, test_size=0.2, random_state=45)\n",
    "print(X_test)"
   ]
  },
  {
   "cell_type": "code",
   "execution_count": 6,
   "metadata": {},
   "outputs": [
    {
     "name": "stdout",
     "output_type": "stream",
     "text": [
      "Jumlah data dalam X_test: 35\n"
     ]
    }
   ],
   "source": [
    "# Mengambil jumlah data dalam X_test\n",
    "jumlah_data_x_test = X_test.shape[0]\n",
    "\n",
    "# Print jumlah data X_test\n",
    "print(\"Jumlah data dalam X_test:\", jumlah_data_x_test)"
   ]
  },
  {
   "cell_type": "code",
   "execution_count": 7,
   "metadata": {},
   "outputs": [
    {
     "name": "stdout",
     "output_type": "stream",
     "text": [
      "Jumlah data dalam X_train: 140\n"
     ]
    }
   ],
   "source": [
    "# Mengambil jumlah data dalam X_test\n",
    "jumlah_data_x_train = X_train.shape[0]\n",
    "\n",
    "# Print jumlah data X_test\n",
    "print(\"Jumlah data dalam X_train:\", jumlah_data_x_train)"
   ]
  },
  {
   "cell_type": "code",
   "execution_count": 8,
   "metadata": {},
   "outputs": [
    {
     "data": {
      "text/html": [
       "<style>#sk-container-id-1 {color: black;background-color: white;}#sk-container-id-1 pre{padding: 0;}#sk-container-id-1 div.sk-toggleable {background-color: white;}#sk-container-id-1 label.sk-toggleable__label {cursor: pointer;display: block;width: 100%;margin-bottom: 0;padding: 0.3em;box-sizing: border-box;text-align: center;}#sk-container-id-1 label.sk-toggleable__label-arrow:before {content: \"▸\";float: left;margin-right: 0.25em;color: #696969;}#sk-container-id-1 label.sk-toggleable__label-arrow:hover:before {color: black;}#sk-container-id-1 div.sk-estimator:hover label.sk-toggleable__label-arrow:before {color: black;}#sk-container-id-1 div.sk-toggleable__content {max-height: 0;max-width: 0;overflow: hidden;text-align: left;background-color: #f0f8ff;}#sk-container-id-1 div.sk-toggleable__content pre {margin: 0.2em;color: black;border-radius: 0.25em;background-color: #f0f8ff;}#sk-container-id-1 input.sk-toggleable__control:checked~div.sk-toggleable__content {max-height: 200px;max-width: 100%;overflow: auto;}#sk-container-id-1 input.sk-toggleable__control:checked~label.sk-toggleable__label-arrow:before {content: \"▾\";}#sk-container-id-1 div.sk-estimator input.sk-toggleable__control:checked~label.sk-toggleable__label {background-color: #d4ebff;}#sk-container-id-1 div.sk-label input.sk-toggleable__control:checked~label.sk-toggleable__label {background-color: #d4ebff;}#sk-container-id-1 input.sk-hidden--visually {border: 0;clip: rect(1px 1px 1px 1px);clip: rect(1px, 1px, 1px, 1px);height: 1px;margin: -1px;overflow: hidden;padding: 0;position: absolute;width: 1px;}#sk-container-id-1 div.sk-estimator {font-family: monospace;background-color: #f0f8ff;border: 1px dotted black;border-radius: 0.25em;box-sizing: border-box;margin-bottom: 0.5em;}#sk-container-id-1 div.sk-estimator:hover {background-color: #d4ebff;}#sk-container-id-1 div.sk-parallel-item::after {content: \"\";width: 100%;border-bottom: 1px solid gray;flex-grow: 1;}#sk-container-id-1 div.sk-label:hover label.sk-toggleable__label {background-color: #d4ebff;}#sk-container-id-1 div.sk-serial::before {content: \"\";position: absolute;border-left: 1px solid gray;box-sizing: border-box;top: 0;bottom: 0;left: 50%;z-index: 0;}#sk-container-id-1 div.sk-serial {display: flex;flex-direction: column;align-items: center;background-color: white;padding-right: 0.2em;padding-left: 0.2em;position: relative;}#sk-container-id-1 div.sk-item {position: relative;z-index: 1;}#sk-container-id-1 div.sk-parallel {display: flex;align-items: stretch;justify-content: center;background-color: white;position: relative;}#sk-container-id-1 div.sk-item::before, #sk-container-id-1 div.sk-parallel-item::before {content: \"\";position: absolute;border-left: 1px solid gray;box-sizing: border-box;top: 0;bottom: 0;left: 50%;z-index: -1;}#sk-container-id-1 div.sk-parallel-item {display: flex;flex-direction: column;z-index: 1;position: relative;background-color: white;}#sk-container-id-1 div.sk-parallel-item:first-child::after {align-self: flex-end;width: 50%;}#sk-container-id-1 div.sk-parallel-item:last-child::after {align-self: flex-start;width: 50%;}#sk-container-id-1 div.sk-parallel-item:only-child::after {width: 0;}#sk-container-id-1 div.sk-dashed-wrapped {border: 1px dashed gray;margin: 0 0.4em 0.5em 0.4em;box-sizing: border-box;padding-bottom: 0.4em;background-color: white;}#sk-container-id-1 div.sk-label label {font-family: monospace;font-weight: bold;display: inline-block;line-height: 1.2em;}#sk-container-id-1 div.sk-label-container {text-align: center;}#sk-container-id-1 div.sk-container {/* jupyter's `normalize.less` sets `[hidden] { display: none; }` but bootstrap.min.css set `[hidden] { display: none !important; }` so we also need the `!important` here to be able to override the default hidden behavior on the sphinx rendered scikit-learn.org. See: https://github.com/scikit-learn/scikit-learn/issues/21755 */display: inline-block !important;position: relative;}#sk-container-id-1 div.sk-text-repr-fallback {display: none;}</style><div id=\"sk-container-id-1\" class=\"sk-top-container\"><div class=\"sk-text-repr-fallback\"><pre>KNeighborsClassifier(n_neighbors=4)</pre><b>In a Jupyter environment, please rerun this cell to show the HTML representation or trust the notebook. <br />On GitHub, the HTML representation is unable to render, please try loading this page with nbviewer.org.</b></div><div class=\"sk-container\" hidden><div class=\"sk-item\"><div class=\"sk-estimator sk-toggleable\"><input class=\"sk-toggleable__control sk-hidden--visually\" id=\"sk-estimator-id-1\" type=\"checkbox\" checked><label for=\"sk-estimator-id-1\" class=\"sk-toggleable__label sk-toggleable__label-arrow\">KNeighborsClassifier</label><div class=\"sk-toggleable__content\"><pre>KNeighborsClassifier(n_neighbors=4)</pre></div></div></div></div></div>"
      ],
      "text/plain": [
       "KNeighborsClassifier(n_neighbors=4)"
      ]
     },
     "execution_count": 8,
     "metadata": {},
     "output_type": "execute_result"
    }
   ],
   "source": [
    "# Inisialisasi dan latih model KNN\n",
    "knn_model = KNeighborsClassifier(n_neighbors=4)  \n",
    "knn_model.fit(X_train, y_train)"
   ]
  },
  {
   "cell_type": "code",
   "execution_count": 9,
   "metadata": {},
   "outputs": [
    {
     "name": "stdout",
     "output_type": "stream",
     "text": [
      "['Skala0' 'Skala1' 'Skala2' 'Skala3' 'Skala4']\n"
     ]
    }
   ],
   "source": [
    "# Prediksi kelas data pengujian\n",
    "y_pred = knn_model.predict(X_test)\n",
    "print(y_pred[:5])"
   ]
  },
  {
   "cell_type": "code",
   "execution_count": 10,
   "metadata": {},
   "outputs": [
    {
     "name": "stdout",
     "output_type": "stream",
     "text": [
      "Confusion Matrix:\n",
      "[[6 1 0 0 0]\n",
      " [0 2 2 1 0]\n",
      " [1 1 2 1 0]\n",
      " [1 1 2 2 0]\n",
      " [2 1 0 3 6]]\n",
      "\n",
      "Classification Report:\n",
      "              precision    recall  f1-score   support\n",
      "\n",
      "      Skala0       0.60      0.86      0.71         7\n",
      "      Skala1       0.33      0.40      0.36         5\n",
      "      Skala2       0.33      0.40      0.36         5\n",
      "      Skala3       0.29      0.33      0.31         6\n",
      "      Skala4       1.00      0.50      0.67        12\n",
      "\n",
      "    accuracy                           0.51        35\n",
      "   macro avg       0.51      0.50      0.48        35\n",
      "weighted avg       0.61      0.51      0.53        35\n",
      "\n"
     ]
    }
   ],
   "source": [
    "# Evaluasi performa model dengan confusion matrix\n",
    "confusion = confusion_matrix(y_test, y_pred)\n",
    "print(\"Confusion Matrix:\")\n",
    "print(confusion)\n",
    "\n",
    "# Menampilkan laporan klasifikasi (classification report)\n",
    "report = classification_report(y_test, y_pred)\n",
    "print(\"\\nClassification Report:\")\n",
    "print(report)"
   ]
  }
 ],
 "metadata": {
  "kernelspec": {
   "display_name": "Python 3",
   "language": "python",
   "name": "python3"
  },
  "language_info": {
   "codemirror_mode": {
    "name": "ipython",
    "version": 3
   },
   "file_extension": ".py",
   "mimetype": "text/x-python",
   "name": "python",
   "nbconvert_exporter": "python",
   "pygments_lexer": "ipython3",
   "version": "3.11.4"
  },
  "orig_nbformat": 4
 },
 "nbformat": 4,
 "nbformat_minor": 2
}
