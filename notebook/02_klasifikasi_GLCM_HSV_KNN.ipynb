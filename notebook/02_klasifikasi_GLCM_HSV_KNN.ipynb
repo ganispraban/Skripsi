{
 "cells": [
  {
   "cell_type": "markdown",
   "metadata": {},
   "source": [
    "# Load Dataset Hasil Ekstraksi Fitur HSV dan GLCM"
   ]
  },
  {
   "cell_type": "code",
   "execution_count": 1,
   "metadata": {},
   "outputs": [],
   "source": [
    "import pandas as pd\n",
    "import numpy as np\n",
    "from sklearn.model_selection import train_test_split\n",
    "from sklearn.neighbors import KNeighborsClassifier\n",
    "from sklearn.metrics import confusion_matrix, classification_report"
   ]
  },
  {
   "cell_type": "code",
   "execution_count": 2,
   "metadata": {},
   "outputs": [
    {
     "data": {
      "text/html": [
       "<div>\n",
       "<style scoped>\n",
       "    .dataframe tbody tr th:only-of-type {\n",
       "        vertical-align: middle;\n",
       "    }\n",
       "\n",
       "    .dataframe tbody tr th {\n",
       "        vertical-align: top;\n",
       "    }\n",
       "\n",
       "    .dataframe thead th {\n",
       "        text-align: right;\n",
       "    }\n",
       "</style>\n",
       "<table border=\"1\" class=\"dataframe\">\n",
       "  <thead>\n",
       "    <tr style=\"text-align: right;\">\n",
       "      <th></th>\n",
       "      <th>contrast_0</th>\n",
       "      <th>contrast_45</th>\n",
       "      <th>contrast_90</th>\n",
       "      <th>contrast_135</th>\n",
       "      <th>homogeneity_0</th>\n",
       "      <th>homogeneity_45</th>\n",
       "      <th>homogeneity_90</th>\n",
       "      <th>homogeneity_135</th>\n",
       "      <th>correlation_0</th>\n",
       "      <th>correlation_45</th>\n",
       "      <th>...</th>\n",
       "      <th>skew_h</th>\n",
       "      <th>skew_s</th>\n",
       "      <th>skew_v</th>\n",
       "      <th>entropy_h</th>\n",
       "      <th>entropy_s</th>\n",
       "      <th>entropy_v</th>\n",
       "      <th>std_h</th>\n",
       "      <th>std_s</th>\n",
       "      <th>std_v</th>\n",
       "      <th>label</th>\n",
       "    </tr>\n",
       "  </thead>\n",
       "  <tbody>\n",
       "    <tr>\n",
       "      <th>0</th>\n",
       "      <td>173.844805</td>\n",
       "      <td>0.805667</td>\n",
       "      <td>0.892292</td>\n",
       "      <td>0.156058</td>\n",
       "      <td>221.599345</td>\n",
       "      <td>0.771900</td>\n",
       "      <td>0.862952</td>\n",
       "      <td>0.149101</td>\n",
       "      <td>48.913055</td>\n",
       "      <td>0.794652</td>\n",
       "      <td>...</td>\n",
       "      <td>-8.979452</td>\n",
       "      <td>5.156686</td>\n",
       "      <td>-5.116159</td>\n",
       "      <td>15.930705</td>\n",
       "      <td>15.777227</td>\n",
       "      <td>15.926208</td>\n",
       "      <td>0.046750</td>\n",
       "      <td>0.072982</td>\n",
       "      <td>0.106758</td>\n",
       "      <td>0</td>\n",
       "    </tr>\n",
       "    <tr>\n",
       "      <th>1</th>\n",
       "      <td>63.004537</td>\n",
       "      <td>0.865046</td>\n",
       "      <td>0.922682</td>\n",
       "      <td>0.166606</td>\n",
       "      <td>136.791043</td>\n",
       "      <td>0.796055</td>\n",
       "      <td>0.832516</td>\n",
       "      <td>0.147934</td>\n",
       "      <td>91.133534</td>\n",
       "      <td>0.843336</td>\n",
       "      <td>...</td>\n",
       "      <td>-2.933976</td>\n",
       "      <td>8.831609</td>\n",
       "      <td>-5.048020</td>\n",
       "      <td>13.755710</td>\n",
       "      <td>13.190363</td>\n",
       "      <td>13.811461</td>\n",
       "      <td>0.149127</td>\n",
       "      <td>0.049180</td>\n",
       "      <td>0.076933</td>\n",
       "      <td>0</td>\n",
       "    </tr>\n",
       "    <tr>\n",
       "      <th>2</th>\n",
       "      <td>89.052386</td>\n",
       "      <td>0.837714</td>\n",
       "      <td>0.959530</td>\n",
       "      <td>0.176169</td>\n",
       "      <td>106.956690</td>\n",
       "      <td>0.796018</td>\n",
       "      <td>0.951538</td>\n",
       "      <td>0.161958</td>\n",
       "      <td>23.898751</td>\n",
       "      <td>0.857397</td>\n",
       "      <td>...</td>\n",
       "      <td>-4.336087</td>\n",
       "      <td>5.597002</td>\n",
       "      <td>-4.171041</td>\n",
       "      <td>13.813776</td>\n",
       "      <td>13.791269</td>\n",
       "      <td>13.794408</td>\n",
       "      <td>0.033290</td>\n",
       "      <td>0.049505</td>\n",
       "      <td>0.146280</td>\n",
       "      <td>0</td>\n",
       "    </tr>\n",
       "    <tr>\n",
       "      <th>3</th>\n",
       "      <td>106.450134</td>\n",
       "      <td>0.835703</td>\n",
       "      <td>0.930860</td>\n",
       "      <td>0.143655</td>\n",
       "      <td>149.727050</td>\n",
       "      <td>0.777069</td>\n",
       "      <td>0.902978</td>\n",
       "      <td>0.128966</td>\n",
       "      <td>31.965485</td>\n",
       "      <td>0.835359</td>\n",
       "      <td>...</td>\n",
       "      <td>-6.683743</td>\n",
       "      <td>4.919780</td>\n",
       "      <td>-3.790741</td>\n",
       "      <td>13.812129</td>\n",
       "      <td>13.777835</td>\n",
       "      <td>13.802779</td>\n",
       "      <td>0.043550</td>\n",
       "      <td>0.054253</td>\n",
       "      <td>0.118331</td>\n",
       "      <td>0</td>\n",
       "    </tr>\n",
       "    <tr>\n",
       "      <th>4</th>\n",
       "      <td>172.692754</td>\n",
       "      <td>0.811668</td>\n",
       "      <td>0.883358</td>\n",
       "      <td>0.205275</td>\n",
       "      <td>308.617062</td>\n",
       "      <td>0.759290</td>\n",
       "      <td>0.792139</td>\n",
       "      <td>0.187381</td>\n",
       "      <td>72.747191</td>\n",
       "      <td>0.813642</td>\n",
       "      <td>...</td>\n",
       "      <td>-5.207486</td>\n",
       "      <td>5.467912</td>\n",
       "      <td>-4.667438</td>\n",
       "      <td>13.812072</td>\n",
       "      <td>13.627053</td>\n",
       "      <td>13.804734</td>\n",
       "      <td>0.047176</td>\n",
       "      <td>0.072431</td>\n",
       "      <td>0.109684</td>\n",
       "      <td>0</td>\n",
       "    </tr>\n",
       "  </tbody>\n",
       "</table>\n",
       "<p>5 rows × 29 columns</p>\n",
       "</div>"
      ],
      "text/plain": [
       "   contrast_0  contrast_45  contrast_90  contrast_135  homogeneity_0  \\\n",
       "0  173.844805     0.805667     0.892292      0.156058     221.599345   \n",
       "1   63.004537     0.865046     0.922682      0.166606     136.791043   \n",
       "2   89.052386     0.837714     0.959530      0.176169     106.956690   \n",
       "3  106.450134     0.835703     0.930860      0.143655     149.727050   \n",
       "4  172.692754     0.811668     0.883358      0.205275     308.617062   \n",
       "\n",
       "   homogeneity_45  homogeneity_90  homogeneity_135  correlation_0  \\\n",
       "0        0.771900        0.862952         0.149101      48.913055   \n",
       "1        0.796055        0.832516         0.147934      91.133534   \n",
       "2        0.796018        0.951538         0.161958      23.898751   \n",
       "3        0.777069        0.902978         0.128966      31.965485   \n",
       "4        0.759290        0.792139         0.187381      72.747191   \n",
       "\n",
       "   correlation_45  ...    skew_h    skew_s    skew_v  entropy_h  entropy_s  \\\n",
       "0        0.794652  ... -8.979452  5.156686 -5.116159  15.930705  15.777227   \n",
       "1        0.843336  ... -2.933976  8.831609 -5.048020  13.755710  13.190363   \n",
       "2        0.857397  ... -4.336087  5.597002 -4.171041  13.813776  13.791269   \n",
       "3        0.835359  ... -6.683743  4.919780 -3.790741  13.812129  13.777835   \n",
       "4        0.813642  ... -5.207486  5.467912 -4.667438  13.812072  13.627053   \n",
       "\n",
       "   entropy_v     std_h     std_s     std_v  label  \n",
       "0  15.926208  0.046750  0.072982  0.106758      0  \n",
       "1  13.811461  0.149127  0.049180  0.076933      0  \n",
       "2  13.794408  0.033290  0.049505  0.146280      0  \n",
       "3  13.802779  0.043550  0.054253  0.118331      0  \n",
       "4  13.804734  0.047176  0.072431  0.109684      0  \n",
       "\n",
       "[5 rows x 29 columns]"
      ]
     },
     "execution_count": 2,
     "metadata": {},
     "output_type": "execute_result"
    }
   ],
   "source": [
    "# Load the CSV data into a DataFrame\n",
    "df = pd.read_csv('../notebook/result/output_combine_GLCM_HSV.csv')\n",
    "df.head()"
   ]
  },
  {
   "cell_type": "markdown",
   "metadata": {},
   "source": [
    "### Splitting Dataset"
   ]
  },
  {
   "cell_type": "code",
   "execution_count": 3,
   "metadata": {},
   "outputs": [],
   "source": [
    "# Pisahkan fitur (X) dan label kelas (y)\n",
    "X = df.drop('label', axis=1)  \n",
    "y = df['label']"
   ]
  },
  {
   "cell_type": "code",
   "execution_count": 4,
   "metadata": {},
   "outputs": [],
   "source": [
    "# Bagi data menjadi data latih dan data uji\n",
    "X_train, X_test, y_train, y_test = train_test_split(X, y, test_size=0.2, random_state=51)"
   ]
  },
  {
   "cell_type": "code",
   "execution_count": 5,
   "metadata": {},
   "outputs": [
    {
     "data": {
      "text/html": [
       "<style>#sk-container-id-1 {color: black;background-color: white;}#sk-container-id-1 pre{padding: 0;}#sk-container-id-1 div.sk-toggleable {background-color: white;}#sk-container-id-1 label.sk-toggleable__label {cursor: pointer;display: block;width: 100%;margin-bottom: 0;padding: 0.3em;box-sizing: border-box;text-align: center;}#sk-container-id-1 label.sk-toggleable__label-arrow:before {content: \"▸\";float: left;margin-right: 0.25em;color: #696969;}#sk-container-id-1 label.sk-toggleable__label-arrow:hover:before {color: black;}#sk-container-id-1 div.sk-estimator:hover label.sk-toggleable__label-arrow:before {color: black;}#sk-container-id-1 div.sk-toggleable__content {max-height: 0;max-width: 0;overflow: hidden;text-align: left;background-color: #f0f8ff;}#sk-container-id-1 div.sk-toggleable__content pre {margin: 0.2em;color: black;border-radius: 0.25em;background-color: #f0f8ff;}#sk-container-id-1 input.sk-toggleable__control:checked~div.sk-toggleable__content {max-height: 200px;max-width: 100%;overflow: auto;}#sk-container-id-1 input.sk-toggleable__control:checked~label.sk-toggleable__label-arrow:before {content: \"▾\";}#sk-container-id-1 div.sk-estimator input.sk-toggleable__control:checked~label.sk-toggleable__label {background-color: #d4ebff;}#sk-container-id-1 div.sk-label input.sk-toggleable__control:checked~label.sk-toggleable__label {background-color: #d4ebff;}#sk-container-id-1 input.sk-hidden--visually {border: 0;clip: rect(1px 1px 1px 1px);clip: rect(1px, 1px, 1px, 1px);height: 1px;margin: -1px;overflow: hidden;padding: 0;position: absolute;width: 1px;}#sk-container-id-1 div.sk-estimator {font-family: monospace;background-color: #f0f8ff;border: 1px dotted black;border-radius: 0.25em;box-sizing: border-box;margin-bottom: 0.5em;}#sk-container-id-1 div.sk-estimator:hover {background-color: #d4ebff;}#sk-container-id-1 div.sk-parallel-item::after {content: \"\";width: 100%;border-bottom: 1px solid gray;flex-grow: 1;}#sk-container-id-1 div.sk-label:hover label.sk-toggleable__label {background-color: #d4ebff;}#sk-container-id-1 div.sk-serial::before {content: \"\";position: absolute;border-left: 1px solid gray;box-sizing: border-box;top: 0;bottom: 0;left: 50%;z-index: 0;}#sk-container-id-1 div.sk-serial {display: flex;flex-direction: column;align-items: center;background-color: white;padding-right: 0.2em;padding-left: 0.2em;position: relative;}#sk-container-id-1 div.sk-item {position: relative;z-index: 1;}#sk-container-id-1 div.sk-parallel {display: flex;align-items: stretch;justify-content: center;background-color: white;position: relative;}#sk-container-id-1 div.sk-item::before, #sk-container-id-1 div.sk-parallel-item::before {content: \"\";position: absolute;border-left: 1px solid gray;box-sizing: border-box;top: 0;bottom: 0;left: 50%;z-index: -1;}#sk-container-id-1 div.sk-parallel-item {display: flex;flex-direction: column;z-index: 1;position: relative;background-color: white;}#sk-container-id-1 div.sk-parallel-item:first-child::after {align-self: flex-end;width: 50%;}#sk-container-id-1 div.sk-parallel-item:last-child::after {align-self: flex-start;width: 50%;}#sk-container-id-1 div.sk-parallel-item:only-child::after {width: 0;}#sk-container-id-1 div.sk-dashed-wrapped {border: 1px dashed gray;margin: 0 0.4em 0.5em 0.4em;box-sizing: border-box;padding-bottom: 0.4em;background-color: white;}#sk-container-id-1 div.sk-label label {font-family: monospace;font-weight: bold;display: inline-block;line-height: 1.2em;}#sk-container-id-1 div.sk-label-container {text-align: center;}#sk-container-id-1 div.sk-container {/* jupyter's `normalize.less` sets `[hidden] { display: none; }` but bootstrap.min.css set `[hidden] { display: none !important; }` so we also need the `!important` here to be able to override the default hidden behavior on the sphinx rendered scikit-learn.org. See: https://github.com/scikit-learn/scikit-learn/issues/21755 */display: inline-block !important;position: relative;}#sk-container-id-1 div.sk-text-repr-fallback {display: none;}</style><div id=\"sk-container-id-1\" class=\"sk-top-container\"><div class=\"sk-text-repr-fallback\"><pre>KNeighborsClassifier(n_neighbors=4)</pre><b>In a Jupyter environment, please rerun this cell to show the HTML representation or trust the notebook. <br />On GitHub, the HTML representation is unable to render, please try loading this page with nbviewer.org.</b></div><div class=\"sk-container\" hidden><div class=\"sk-item\"><div class=\"sk-estimator sk-toggleable\"><input class=\"sk-toggleable__control sk-hidden--visually\" id=\"sk-estimator-id-1\" type=\"checkbox\" checked><label for=\"sk-estimator-id-1\" class=\"sk-toggleable__label sk-toggleable__label-arrow\">KNeighborsClassifier</label><div class=\"sk-toggleable__content\"><pre>KNeighborsClassifier(n_neighbors=4)</pre></div></div></div></div></div>"
      ],
      "text/plain": [
       "KNeighborsClassifier(n_neighbors=4)"
      ]
     },
     "execution_count": 5,
     "metadata": {},
     "output_type": "execute_result"
    }
   ],
   "source": [
    "# Inisialisasi model KNN\n",
    "knn = KNeighborsClassifier(n_neighbors=4)  \n",
    "# Latih model KNN\n",
    "knn.fit(X_train, y_train)"
   ]
  },
  {
   "cell_type": "code",
   "execution_count": 6,
   "metadata": {},
   "outputs": [],
   "source": [
    "# Lakukan prediksi pada data uji\n",
    "y_pred = knn.predict(X_test)"
   ]
  },
  {
   "cell_type": "code",
   "execution_count": 7,
   "metadata": {},
   "outputs": [
    {
     "name": "stdout",
     "output_type": "stream",
     "text": [
      "Confusion Matrix:\n",
      "[[6 2 2 0 0]\n",
      " [3 2 2 0 0]\n",
      " [3 0 1 1 1]\n",
      " [1 2 1 4 0]\n",
      " [0 0 1 1 2]]\n",
      "\n",
      "Classification Report:\n",
      "              precision    recall  f1-score   support\n",
      "\n",
      "           0       0.46      0.60      0.52        10\n",
      "           1       0.33      0.29      0.31         7\n",
      "           2       0.14      0.17      0.15         6\n",
      "           3       0.67      0.50      0.57         8\n",
      "           4       0.67      0.50      0.57         4\n",
      "\n",
      "    accuracy                           0.43        35\n",
      "   macro avg       0.45      0.41      0.43        35\n",
      "weighted avg       0.45      0.43      0.43        35\n",
      "\n"
     ]
    }
   ],
   "source": [
    "# Hitung dan tampilkan confusion matrix\n",
    "confusion = confusion_matrix(y_test, y_pred)\n",
    "print(\"Confusion Matrix:\")\n",
    "print(confusion)\n",
    "\n",
    "# Tampilkan laporan klasifikasi\n",
    "classification_rep = classification_report(y_test, y_pred)\n",
    "print(\"\\nClassification Report:\")\n",
    "print(classification_rep)\n"
   ]
  }
 ],
 "metadata": {
  "kernelspec": {
   "display_name": "Python 3",
   "language": "python",
   "name": "python3"
  },
  "language_info": {
   "codemirror_mode": {
    "name": "ipython",
    "version": 3
   },
   "file_extension": ".py",
   "mimetype": "text/x-python",
   "name": "python",
   "nbconvert_exporter": "python",
   "pygments_lexer": "ipython3",
   "version": "3.11.4"
  },
  "orig_nbformat": 4
 },
 "nbformat": 4,
 "nbformat_minor": 2
}
