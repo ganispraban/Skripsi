{
 "cells": [
  {
   "cell_type": "markdown",
   "metadata": {},
   "source": [
    "# Feature Extraction HSV dan GLCM"
   ]
  },
  {
   "cell_type": "code",
   "execution_count": 1,
   "metadata": {},
   "outputs": [],
   "source": [
    "import os\n",
    "import numpy as np\n",
    "import pandas as pd\n",
    "from skimage.feature import graycomatrix, graycoprops\n",
    "from skimage.color import rgb2gray, rgb2hsv\n",
    "from PIL import Image\n",
    "from sklearn.preprocessing import LabelEncoder\n",
    "from scipy.stats import skew, entropy\n"
   ]
  },
  {
   "cell_type": "code",
   "execution_count": 2,
   "metadata": {},
   "outputs": [],
   "source": [
    "# Inisialisasi daftar untuk menyimpan fitur\n",
    "feature_list = []\n",
    "label_list = []\n",
    "\n",
    "# Path folder yang berisi citra-citra dari 5 kelas \n",
    "folder_path = \"../Dataset/\""
   ]
  },
  {
   "cell_type": "code",
   "execution_count": 3,
   "metadata": {},
   "outputs": [
    {
     "name": "stderr",
     "output_type": "stream",
     "text": [
      "C:\\Users\\ASUS\\AppData\\Local\\Temp\\ipykernel_20140\\2752251329.py:16: DeprecationWarning: ANTIALIAS is deprecated and will be removed in Pillow 10 (2023-07-01). Use LANCZOS or Resampling.LANCZOS instead.\n",
      "  gray_image = gray_image.resize((300, 300), Image.ANTIALIAS)\n"
     ]
    }
   ],
   "source": [
    "# Daftar sudut arah yang ingin digunakan (0, 45, 90, 135 derajat)\n",
    "angles = [0, 45, 90, 135]\n",
    "\n",
    "for class_name in os.listdir(folder_path):\n",
    "    class_folder = os.path.join(folder_path, class_name)\n",
    "    if os.path.isdir(class_folder):\n",
    "        for filename in os.listdir(class_folder):\n",
    "            if filename.endswith(\".jpg\"): \n",
    "                image_path = os.path.join(class_folder, filename)\n",
    "                # Baca citra, ubah ke grayscale, dan resize \n",
    "                image = Image.open(image_path).convert('RGB')\n",
    "                image = np.array(image)\n",
    "                gray_image = rgb2gray(image)\n",
    "                gray_image = (gray_image * 255).astype(np.uint8)\n",
    "                gray_image = Image.fromarray(gray_image)\n",
    "                gray_image = gray_image.resize((300, 300), Image.ANTIALIAS)\n",
    "                gray_image = np.array(gray_image)\n",
    "                # Hitung GLCM untuk setiap sudut\n",
    "                glcm_features = []\n",
    "                for angle in angles:\n",
    "                    glcm = graycomatrix(gray_image, [1], [angle], levels=256, symmetric=True, normed=True)\n",
    "                    contrast = graycoprops(glcm, 'contrast')[0, 0]\n",
    "                    homogeneity = graycoprops(glcm, 'homogeneity')[0, 0]\n",
    "                    correlation = graycoprops(glcm, 'correlation')[0, 0]\n",
    "                    energy = graycoprops(glcm, 'energy')[0, 0]\n",
    "                    glcm_features.extend([contrast, homogeneity, correlation, energy])\n",
    "                # Konversi citra RGB ke HSV\n",
    "                hsv_image = rgb2hsv(image)\n",
    "                h, s, v = hsv_image[:, :, 0], hsv_image[:, :, 1], hsv_image[:, :, 2]\n",
    "                # Ekstraksi fitur dari komponen HSV\n",
    "                mean_h = np.mean(h)\n",
    "                mean_s = np.mean(s)\n",
    "                mean_v = np.mean(v)\n",
    "                skew_h = skew(h.flatten())\n",
    "                skew_s = skew(s.flatten())\n",
    "                skew_v = skew(v.flatten())\n",
    "                entropy_h = entropy(h.flatten())\n",
    "                entropy_s = entropy(s.flatten())\n",
    "                entropy_v = entropy(v.flatten())\n",
    "                std_h = np.std(h)\n",
    "                std_s = np.std(s)\n",
    "                std_v = np.std(v)\n",
    "                # Simpan fitur dan label\n",
    "                feature_list.append(glcm_features + [mean_h, mean_s, mean_v, skew_h, skew_s, skew_v, entropy_h, entropy_s, entropy_v, std_h, std_s, std_v])\n",
    "                label_list.append(class_name)\n"
   ]
  },
  {
   "cell_type": "code",
   "execution_count": null,
   "metadata": {},
   "outputs": [],
   "source": [
    "X = np.array(feature_list)\n",
    "y = np.array(label_list)\n",
    "\n",
    "label_encoder = LabelEncoder()\n",
    "y_encoded = label_encoder.fit_transform(y)"
   ]
  },
  {
   "cell_type": "code",
   "execution_count": null,
   "metadata": {},
   "outputs": [],
   "source": [
    "# Buat DataFrame\n",
    "column_names = [f'{feature}_{angle}' for feature in ['contrast', 'homogeneity', 'correlation', 'energy'] for angle in angles]\n",
    "column_names += ['mean_h', 'mean_s', 'mean_v', 'skew_h', 'skew_s', 'skew_v', 'entropy_h', 'entropy_s', 'entropy_v', 'std_h', 'std_s', 'std_v']\n",
    "df = pd.DataFrame(data=X, columns=column_names)\n",
    "df['label'] = y_encoded"
   ]
  },
  {
   "cell_type": "code",
   "execution_count": null,
   "metadata": {},
   "outputs": [],
   "source": [
    "# Simpan Dataframe ke dalam file CSV\n",
    "file_name = \"../notebook/result/output_combine_GLCM_HSV.csv\"  \n",
    "df.to_csv(file_name, index=False)"
   ]
  }
 ],
 "metadata": {
  "kernelspec": {
   "display_name": "Python 3",
   "language": "python",
   "name": "python3"
  },
  "language_info": {
   "codemirror_mode": {
    "name": "ipython",
    "version": 3
   },
   "file_extension": ".py",
   "mimetype": "text/x-python",
   "name": "python",
   "nbconvert_exporter": "python",
   "pygments_lexer": "ipython3",
   "version": "3.11.4"
  },
  "orig_nbformat": 4
 },
 "nbformat": 4,
 "nbformat_minor": 2
}
