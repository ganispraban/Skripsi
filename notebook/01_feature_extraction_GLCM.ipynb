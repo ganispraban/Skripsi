{
 "cells": [
  {
   "cell_type": "markdown",
   "metadata": {},
   "source": [
    "# EKSTRAKSI FITUR GLCM 0, 45, 90, 135 Dgree"
   ]
  },
  {
   "cell_type": "code",
   "execution_count": 1,
   "metadata": {},
   "outputs": [],
   "source": [
    "import os\n",
    "import cv2\n",
    "import numpy as np\n",
    "import pandas as pd\n",
    "from skimage.feature import graycomatrix, graycoprops\n",
    "from sklearn.preprocessing import LabelEncoder\n",
    "from skimage.color import rgb2gray\n",
    "from PIL import Image"
   ]
  },
  {
   "cell_type": "markdown",
   "metadata": {},
   "source": [
    "## GLCM dengan 0 derajat"
   ]
  },
  {
   "cell_type": "code",
   "execution_count": 2,
   "metadata": {},
   "outputs": [],
   "source": [
    "# Inisialisasi daftar untuk menyimpan fitur\n",
    "feature_list = []\n",
    "label_list = []\n",
    "\n",
    "# Path folder yang berisi citra-citra dari 5 kelas (ganti dengan path sesuai dengan struktur folder Anda)\n",
    "folder_path = \"../Dataset/\""
   ]
  },
  {
   "cell_type": "code",
   "execution_count": 3,
   "metadata": {},
   "outputs": [
    {
     "name": "stderr",
     "output_type": "stream",
     "text": [
      "C:\\Users\\ASUS\\AppData\\Local\\Temp\\ipykernel_17628\\1540198449.py:16: DeprecationWarning: ANTIALIAS is deprecated and will be removed in Pillow 10 (2023-07-01). Use LANCZOS or Resampling.LANCZOS instead.\n",
      "  gray_image = gray_image.resize((300, 300), Image.ANTIALIAS)\n"
     ]
    }
   ],
   "source": [
    "# Daftar sudut arah yang ingin digunakan (0 derajat)\n",
    "angles = [0]\n",
    "\n",
    "for class_name in os.listdir(folder_path):\n",
    "    class_folder = os.path.join(folder_path, class_name)\n",
    "    if os.path.isdir(class_folder):\n",
    "        for filename in os.listdir(class_folder):\n",
    "            if filename.endswith(\".jpg\"):  \n",
    "                image_path = os.path.join(class_folder, filename)\n",
    "                # Baca citra, ubah ke grayscale, dan resize ke ukuran 300 x 300\n",
    "                image = Image.open(image_path).convert('RGB')\n",
    "                image = np.array(image)\n",
    "                gray_image = rgb2gray(image)\n",
    "                gray_image = (gray_image * 255).astype(np.uint8)\n",
    "                gray_image = Image.fromarray(gray_image)\n",
    "                gray_image = gray_image.resize((300, 300), Image.ANTIALIAS)\n",
    "                gray_image = np.array(gray_image)\n",
    "                # Hitung GLCM untuk sudut 0 derajat\n",
    "                glcm = graycomatrix(gray_image, [1], [0], levels=256, symmetric=True, normed=True)\n",
    "                # Ekstraksi fitur GLCM\n",
    "                contrast = graycoprops(glcm, 'contrast')[0, 0]\n",
    "                homogeneity = graycoprops(glcm, 'homogeneity')[0, 0]\n",
    "                correlation = graycoprops(glcm, 'correlation')[0, 0]\n",
    "                energy = graycoprops(glcm, 'energy')[0, 0]\n",
    "                # Simpan fitur dan label\n",
    "                feature_list.append([contrast, homogeneity, correlation, energy])\n",
    "                label_list.append(class_name)\n"
   ]
  },
  {
   "cell_type": "code",
   "execution_count": 4,
   "metadata": {},
   "outputs": [],
   "source": [
    "X = np.array(feature_list)\n",
    "y = np.array(label_list)\n",
    "\n",
    "label_encoder = LabelEncoder()\n",
    "y_encoded = label_encoder.fit_transform(y)"
   ]
  },
  {
   "cell_type": "code",
   "execution_count": 5,
   "metadata": {},
   "outputs": [],
   "source": [
    "# Buat DataFrame\n",
    "column_names = ['contrast_0', 'homogeneity_0', 'correlation_0', 'energy_0']\n",
    "df = pd.DataFrame(data=X, columns=column_names)\n",
    "df['label'] = y_encoded"
   ]
  },
  {
   "cell_type": "code",
   "execution_count": 6,
   "metadata": {},
   "outputs": [],
   "source": [
    "# Simpan Dataframe ke dalam file CSV\n",
    "file_name = \"../notebook/result/glcm_features_0_degree.csv\"  # Nama file CSV\n",
    "df.to_csv(file_name, index=False)"
   ]
  },
  {
   "cell_type": "markdown",
   "metadata": {},
   "source": [
    "## GLCM dengan 45 derajat"
   ]
  },
  {
   "cell_type": "code",
   "execution_count": 7,
   "metadata": {},
   "outputs": [],
   "source": [
    "# Inisialisasi daftar untuk menyimpan fitur dan label\n",
    "feature_list = []\n",
    "label_list = []\n",
    "\n",
    "# Path folder yang berisi citra-citra dari 5 kelas (ganti dengan path sesuai dengan struktur folder Anda)\n",
    "folder_path = \"../Dataset/\""
   ]
  },
  {
   "cell_type": "code",
   "execution_count": 8,
   "metadata": {},
   "outputs": [
    {
     "name": "stderr",
     "output_type": "stream",
     "text": [
      "C:\\Users\\ASUS\\AppData\\Local\\Temp\\ipykernel_17628\\3630707886.py:16: DeprecationWarning: ANTIALIAS is deprecated and will be removed in Pillow 10 (2023-07-01). Use LANCZOS or Resampling.LANCZOS instead.\n",
      "  gray_image = gray_image.resize((300, 300), Image.ANTIALIAS)\n"
     ]
    }
   ],
   "source": [
    "# Daftar sudut arah yang ingin digunakan (hanya 45 derajat)\n",
    "angles = [45]\n",
    "\n",
    "for class_name in os.listdir(folder_path):\n",
    "    class_folder = os.path.join(folder_path, class_name)\n",
    "    if os.path.isdir(class_folder):\n",
    "        for filename in os.listdir(class_folder):\n",
    "            if filename.endswith(\".jpg\"):  # Ubah ekstensi citra sesuai dengan dataset Anda\n",
    "                image_path = os.path.join(class_folder, filename)\n",
    "                # Baca citra, ubah ke grayscale, dan resize ke ukuran yang diinginkan (misalnya, 64x64)\n",
    "                image = Image.open(image_path).convert('RGB')\n",
    "                image = np.array(image)\n",
    "                gray_image = rgb2gray(image)\n",
    "                gray_image = (gray_image * 255).astype(np.uint8)\n",
    "                gray_image = Image.fromarray(gray_image)\n",
    "                gray_image = gray_image.resize((300, 300), Image.ANTIALIAS)\n",
    "                gray_image = np.array(gray_image)\n",
    "                # Hitung GLCM dengan sudut 45 derajat\n",
    "                glcm = graycomatrix(gray_image, [1], [angles[0]], levels=256, symmetric=True, normed=True)\n",
    "                # Ekstraksi fitur GLCM\n",
    "                contrast = graycoprops(glcm, 'contrast')[0, 0]\n",
    "                homogeneity = graycoprops(glcm, 'homogeneity')[0, 0]\n",
    "                correlation = graycoprops(glcm, 'correlation')[0, 0]\n",
    "                energy = graycoprops(glcm, 'energy')[0, 0]\n",
    "                # Simpan fitur dan label\n",
    "                feature_list.append([contrast, homogeneity, correlation, energy])\n",
    "                label_list.append(class_name)\n"
   ]
  },
  {
   "cell_type": "code",
   "execution_count": 9,
   "metadata": {},
   "outputs": [],
   "source": [
    "X = np.array(feature_list)\n",
    "y = np.array(label_list)\n",
    "\n",
    "label_encoder = LabelEncoder()\n",
    "y_encoded = label_encoder.fit_transform(y)"
   ]
  },
  {
   "cell_type": "code",
   "execution_count": 10,
   "metadata": {},
   "outputs": [],
   "source": [
    "# Buat DataFrame\n",
    "column_names = [f'{feature}_{angles[0]}' for feature in ['contrast', 'homogeneity', 'correlation', 'energy']]\n",
    "df = pd.DataFrame(data=X, columns=column_names)\n",
    "df['label'] = y_encoded\n"
   ]
  },
  {
   "cell_type": "code",
   "execution_count": 11,
   "metadata": {},
   "outputs": [],
   "source": [
    "# Simpan Dataframe ke dalam file CSV\n",
    "file_name = \"../notebook/result/glcm_features_45_degree.csv\"  # Nama file CSV\n",
    "df.to_csv(file_name, index=False)\n"
   ]
  },
  {
   "cell_type": "markdown",
   "metadata": {},
   "source": [
    "## GLCM dengan 90 derajat"
   ]
  },
  {
   "cell_type": "code",
   "execution_count": 12,
   "metadata": {},
   "outputs": [],
   "source": [
    "# Inisialisasi daftar untuk menyimpan fitur dan label\n",
    "feature_list = []\n",
    "label_list = []\n",
    "\n",
    "# Path folder yang berisi citra-citra dari 5 kelas (ganti dengan path sesuai dengan struktur folder Anda)\n",
    "folder_path = \"../Dataset/\""
   ]
  },
  {
   "cell_type": "code",
   "execution_count": 13,
   "metadata": {},
   "outputs": [
    {
     "name": "stderr",
     "output_type": "stream",
     "text": [
      "C:\\Users\\ASUS\\AppData\\Local\\Temp\\ipykernel_17628\\3046241884.py:16: DeprecationWarning: ANTIALIAS is deprecated and will be removed in Pillow 10 (2023-07-01). Use LANCZOS or Resampling.LANCZOS instead.\n",
      "  gray_image = gray_image.resize((300, 300), Image.ANTIALIAS)\n"
     ]
    }
   ],
   "source": [
    "# Daftar sudut arah yang ingin digunakan (hanya 90 derajat)\n",
    "angles = [90]\n",
    "\n",
    "for class_name in os.listdir(folder_path):\n",
    "    class_folder = os.path.join(folder_path, class_name)\n",
    "    if os.path.isdir(class_folder):\n",
    "        for filename in os.listdir(class_folder):\n",
    "            if filename.endswith(\".jpg\"):  \n",
    "                image_path = os.path.join(class_folder, filename)\n",
    "                # Baca citra, ubah ke grayscale, dan resize ke ukuran 300 x 300\n",
    "                image = Image.open(image_path).convert('RGB')\n",
    "                image = np.array(image)\n",
    "                gray_image = rgb2gray(image)\n",
    "                gray_image = (gray_image * 255).astype(np.uint8)\n",
    "                gray_image = Image.fromarray(gray_image)\n",
    "                gray_image = gray_image.resize((300, 300), Image.ANTIALIAS)\n",
    "                gray_image = np.array(gray_image)\n",
    "                # Hitung GLCM dengan sudut 45 derajat\n",
    "                glcm = graycomatrix(gray_image, [1], [angles[0]], levels=256, symmetric=True, normed=True)\n",
    "                # Ekstraksi fitur GLCM\n",
    "                contrast = graycoprops(glcm, 'contrast')[0, 0]\n",
    "                homogeneity = graycoprops(glcm, 'homogeneity')[0, 0]\n",
    "                correlation = graycoprops(glcm, 'correlation')[0, 0]\n",
    "                energy = graycoprops(glcm, 'energy')[0, 0]\n",
    "                # Simpan fitur dan label\n",
    "                feature_list.append([contrast, homogeneity, correlation, energy])\n",
    "                label_list.append(class_name)\n"
   ]
  },
  {
   "cell_type": "code",
   "execution_count": 14,
   "metadata": {},
   "outputs": [],
   "source": [
    "X = np.array(feature_list)\n",
    "y = np.array(label_list)\n",
    "\n",
    "label_encoder = LabelEncoder()\n",
    "y_encoded = label_encoder.fit_transform(y)"
   ]
  },
  {
   "cell_type": "code",
   "execution_count": 15,
   "metadata": {},
   "outputs": [],
   "source": [
    "# Buat DataFrame\n",
    "column_names = [f'{feature}_{angles[0]}' for feature in ['contrast', 'homogeneity', 'correlation', 'energy']]\n",
    "df = pd.DataFrame(data=X, columns=column_names)\n",
    "df['label'] = y_encoded"
   ]
  },
  {
   "cell_type": "code",
   "execution_count": 16,
   "metadata": {},
   "outputs": [],
   "source": [
    "# Simpan Dataframe ke dalam file CSV\n",
    "file_name = \"../notebook/result/glcm_features_90_degree.csv\"  # Nama file CSV\n",
    "df.to_csv(file_name, index=False)"
   ]
  },
  {
   "cell_type": "markdown",
   "metadata": {},
   "source": [
    "## GLCM dengan 135 derajat"
   ]
  },
  {
   "cell_type": "code",
   "execution_count": 17,
   "metadata": {},
   "outputs": [],
   "source": [
    "# Inisialisasi daftar untuk menyimpan fitur dan label\n",
    "feature_list = []\n",
    "label_list = []\n",
    "\n",
    "# Path folder yang berisi citra-citra dari 5 kelas \n",
    "folder_path = \"../Dataset/\""
   ]
  },
  {
   "cell_type": "code",
   "execution_count": 18,
   "metadata": {},
   "outputs": [
    {
     "name": "stderr",
     "output_type": "stream",
     "text": [
      "C:\\Users\\ASUS\\AppData\\Local\\Temp\\ipykernel_17628\\3041290613.py:16: DeprecationWarning: ANTIALIAS is deprecated and will be removed in Pillow 10 (2023-07-01). Use LANCZOS or Resampling.LANCZOS instead.\n",
      "  gray_image = gray_image.resize((300, 300), Image.ANTIALIAS)\n"
     ]
    }
   ],
   "source": [
    "# Daftar sudut arah yang ingin digunakan (hanya 135 derajat)\n",
    "angles = [135]\n",
    "\n",
    "for class_name in os.listdir(folder_path):\n",
    "    class_folder = os.path.join(folder_path, class_name)\n",
    "    if os.path.isdir(class_folder):\n",
    "        for filename in os.listdir(class_folder):\n",
    "            if filename.endswith(\".jpg\"):  \n",
    "                image_path = os.path.join(class_folder, filename)\n",
    "                # Baca citra, ubah ke grayscale, dan resize ke ukuran 300 x 300\n",
    "                image = Image.open(image_path).convert('RGB')\n",
    "                image = np.array(image)\n",
    "                gray_image = rgb2gray(image)\n",
    "                gray_image = (gray_image * 255).astype(np.uint8)\n",
    "                gray_image = Image.fromarray(gray_image)\n",
    "                gray_image = gray_image.resize((300, 300), Image.ANTIALIAS)\n",
    "                gray_image = np.array(gray_image)\n",
    "                # Hitung GLCM dengan sudut 45 derajat\n",
    "                glcm = graycomatrix(gray_image, [1], [angles[0]], levels=256, symmetric=True, normed=True)\n",
    "                # Ekstraksi fitur GLCM\n",
    "                contrast = graycoprops(glcm, 'contrast')[0, 0]\n",
    "                homogeneity = graycoprops(glcm, 'homogeneity')[0, 0]\n",
    "                correlation = graycoprops(glcm, 'correlation')[0, 0]\n",
    "                energy = graycoprops(glcm, 'energy')[0, 0]\n",
    "                # Simpan fitur dan label\n",
    "                feature_list.append([contrast, homogeneity, correlation, energy])\n",
    "                label_list.append(class_name)\n"
   ]
  },
  {
   "cell_type": "code",
   "execution_count": 19,
   "metadata": {},
   "outputs": [],
   "source": [
    "X = np.array(feature_list)\n",
    "y = np.array(label_list)\n",
    "\n",
    "label_encoder = LabelEncoder()\n",
    "y_encoded = label_encoder.fit_transform(y)"
   ]
  },
  {
   "cell_type": "code",
   "execution_count": 20,
   "metadata": {},
   "outputs": [],
   "source": [
    "# Buat DataFrame\n",
    "column_names = [f'{feature}_{angles[0]}' for feature in ['contrast', 'homogeneity', 'correlation', 'energy']]\n",
    "df = pd.DataFrame(data=X, columns=column_names)\n",
    "df['label'] = y_encoded"
   ]
  },
  {
   "cell_type": "code",
   "execution_count": 21,
   "metadata": {},
   "outputs": [],
   "source": [
    "# Simpan Dataframe ke dalam file CSV\n",
    "file_name = \"../notebook/result/glcm_features_135_degree.csv\"  # Nama file CSV\n",
    "df.to_csv(file_name, index=False)"
   ]
  },
  {
   "cell_type": "markdown",
   "metadata": {},
   "source": [
    "## Ekstraksi dengan semua sudut 0, 45, 90, 135 degree"
   ]
  },
  {
   "cell_type": "code",
   "execution_count": 22,
   "metadata": {},
   "outputs": [],
   "source": [
    "feature_list = []\n",
    "label_list = []"
   ]
  },
  {
   "cell_type": "code",
   "execution_count": 23,
   "metadata": {},
   "outputs": [],
   "source": [
    "folder_path_dataset = \"../Dataset/\""
   ]
  },
  {
   "cell_type": "code",
   "execution_count": 24,
   "metadata": {},
   "outputs": [
    {
     "name": "stderr",
     "output_type": "stream",
     "text": [
      "C:\\Users\\ASUS\\AppData\\Local\\Temp\\ipykernel_17628\\1048777049.py:16: DeprecationWarning: ANTIALIAS is deprecated and will be removed in Pillow 10 (2023-07-01). Use LANCZOS or Resampling.LANCZOS instead.\n",
      "  gray_image = gray_image.resize((300, 300), Image.ANTIALIAS)\n"
     ]
    }
   ],
   "source": [
    "# Daftar sudut arah yang ingin digunakan (0, 45, 90, 135 derajat)\n",
    "angles = [0, 45, 90, 135]\n",
    "\n",
    "for class_name in os.listdir(folder_path):\n",
    "    class_folder = os.path.join(folder_path, class_name)\n",
    "    if os.path.isdir(class_folder):\n",
    "        for filename in os.listdir(class_folder):\n",
    "            if filename.endswith(\".jpg\"):  \n",
    "                image_path = os.path.join(class_folder, filename)\n",
    "                # Baca citra, ubah ke grayscale, dan resize ke ukuran 300 x 300\n",
    "                image = Image.open(image_path).convert('RGB')\n",
    "                image = np.array(image)\n",
    "                gray_image = rgb2gray(image)\n",
    "                gray_image = (gray_image * 255).astype(np.uint8)\n",
    "                gray_image = Image.fromarray(gray_image)\n",
    "                gray_image = gray_image.resize((300, 300), Image.ANTIALIAS)\n",
    "                gray_image = np.array(gray_image)\n",
    "                # Hitung GLCM untuk setiap sudut\n",
    "                glcm_features = []\n",
    "                for angle in angles:\n",
    "                    glcm = graycomatrix(gray_image, [1], [angle], levels=256, symmetric=True, normed=True)\n",
    "                    contrast = graycoprops(glcm, 'contrast')[0, 0]\n",
    "                    homogeneity = graycoprops(glcm, 'homogeneity')[0, 0]\n",
    "                    correlation = graycoprops(glcm, 'correlation')[0, 0]\n",
    "                    energy = graycoprops(glcm, 'energy')[0, 0]\n",
    "                    glcm_features.extend([contrast, homogeneity, correlation, energy])\n",
    "                # Simpan fitur dan label\n",
    "                feature_list.append(glcm_features)\n",
    "                label_list.append(class_name)\n"
   ]
  },
  {
   "cell_type": "code",
   "execution_count": null,
   "metadata": {},
   "outputs": [],
   "source": [
    "X = np.array(feature_list)\n",
    "y = np.array(label_list)\n",
    "\n",
    "label_encoder = LabelEncoder()\n",
    "y_encoded = label_encoder.fit_transform(y)"
   ]
  },
  {
   "cell_type": "code",
   "execution_count": null,
   "metadata": {},
   "outputs": [],
   "source": [
    "# Buat DataFrame\n",
    "column_names = [f'{feature}_{angle}' for feature in ['contrast', 'homogeneity', 'correlation', 'energy'] for angle in angles]\n",
    "df = pd.DataFrame(data=X, columns=column_names)\n",
    "df['label'] = y_encoded"
   ]
  },
  {
   "cell_type": "code",
   "execution_count": null,
   "metadata": {},
   "outputs": [],
   "source": [
    "# Simpan Dataframe ke dalam file CSV\n",
    "file_name = \"../notebook/result/output_feature_extraction_GLCM.csv\"  # Nama file CSV\n",
    "df.to_csv(file_name, index=False)\n"
   ]
  }
 ],
 "metadata": {
  "kernelspec": {
   "display_name": "Python 3",
   "language": "python",
   "name": "python3"
  },
  "language_info": {
   "codemirror_mode": {
    "name": "ipython",
    "version": 3
   },
   "file_extension": ".py",
   "mimetype": "text/x-python",
   "name": "python",
   "nbconvert_exporter": "python",
   "pygments_lexer": "ipython3",
   "version": "3.11.4"
  },
  "orig_nbformat": 4
 },
 "nbformat": 4,
 "nbformat_minor": 2
}
